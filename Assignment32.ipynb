{
  "metadata": {
    "kernelspec": {
      "name": "python",
      "display_name": "Python (Pyodide)",
      "language": "python"
    },
    "language_info": {
      "codemirror_mode": {
        "name": "python",
        "version": 3
      },
      "file_extension": ".py",
      "mimetype": "text/x-python",
      "name": "python",
      "nbconvert_exporter": "python",
      "pygments_lexer": "ipython3",
      "version": "3.8"
    }
  },
  "nbformat_minor": 4,
  "nbformat": 4,
  "cells": [
    {
      "cell_type": "code",
      "source": "# Q1: What is the difference between a t-test and a z-test? Provide an example scenario where you would use each type of test.\n\nt-Test: Used when the sample size is small (n<30) and the population standard deviation is unknown.\nExample: Testing whether the average weight of a sample of 20 individuals differs from the general population mean when the population standard deviation is unknown.\n\nz-Test: Used when the sample size is large (n≥30) or when the population standard deviation is known.\nExample: Testing whether the average height of 200 individuals matches the population mean, given the population standard deviation.",
      "metadata": {
        "trusted": true
      },
      "outputs": [],
      "execution_count": null
    },
    {
      "cell_type": "code",
      "source": "# Q2: Differentiate between one-tailed and two-tailed tests.\n\nOne-Tailed Test:Tests if a parameter is significantly greater or smaller than a specific value in one direction.\nExample: Testing if the average score is greater than 75.\n\nTwo-Tailed Test:Tests if a parameter is significantly different (either greater or smaller) from a specific value.\nExample: Testing if the average score is not equal to 75.",
      "metadata": {
        "trusted": true
      },
      "outputs": [],
      "execution_count": null
    },
    {
      "cell_type": "code",
      "source": "# Q3: Explain the concept of Type 1 and Type 2 errors in hypothesis testing. Provide an example scenario for each type of error.\n\nType 1 Error: Rejecting a true null hypothesis (false positive).\nExample: Concluding a drug is effective when it’s not.\n\nType 2 Error: Failing to reject a false null hypothesis (false negative).\nExample: Concluding a drug is not effective when it actually is.",
      "metadata": {
        "trusted": true
      },
      "outputs": [],
      "execution_count": null
    },
    {
      "cell_type": "code",
      "source": "# Q4: Explain Bayes's theorem with an example.\n\nBayes's theorem calculates the probability of an event based on prior knowledge and new evidence.\n\nP(A∣B) = P(B∣A)⋅P(A)/ P(B)\n\nExample: If 5% of emails are spam (P(A)), and 80% of spam emails contain \"sale\" (P(B∣A)), Bayes's theorem can estimate the probability of an email being spam \n         if it contains \"sale.\"",
      "metadata": {
        "trusted": true
      },
      "outputs": [],
      "execution_count": null
    },
    {
      "cell_type": "code",
      "source": "# Q5: What is a confidence interval? How to calculate the confidence interval, explain with an example.\n\nA confidence interval gives a range within which a population parameter likely falls.\nFormula:\n\nCI = x ± Z. σ/root over (n)\n\nExample: Mean = 50, Std Dev = 5, n=30, 95% CI:\nCI = 50 ± 1.96 . 5/ root over(30)\n   = (48.21,51.79)",
      "metadata": {
        "trusted": true
      },
      "outputs": [],
      "execution_count": null
    },
    {
      "cell_type": "code",
      "source": "# Q6. Use Bayes' Theorem to calculate the probability of an event occurring given prior knowledge of the event's probability and new evidence. Provide a sample problem and solution.\n\nProblem: Probability of a disease is 1% (P(A)). Test detects disease 95% of the time (\nP(B∣A)), but has a 5% false positive rate (P(B∣¬A)). Calculate P(A∣B) if test is positive.\n\nSolution:\n\nP(A|B) = P(B|A).P(A)/ P(B) \n       = (0.95 . 0.01)/ ((0.95 . 0.01) + (0.05 . 0.99))\n       = 0.16",
      "metadata": {
        "trusted": true
      },
      "outputs": [],
      "execution_count": null
    },
    {
      "cell_type": "code",
      "source": "# Q7. Calculate the 95% confidence interval for a sample of data with a mean of 50 and a standard deviation of 5. Interpret the results.\n\nMean = 50, Std Dev = 5, n=30, 95% CI:\nCI = 50 ± 1.96 . 5/ root over(30)\n   = (48.21,51.79)\n\nInterpretation: The population mean likely falls between 48.21 and 51.79.",
      "metadata": {
        "trusted": true
      },
      "outputs": [],
      "execution_count": null
    },
    {
      "cell_type": "code",
      "source": "# Q8. What is the margin of error in a confidence interval? How does sample size affect the margin of error?\n# Provide an example of a scenario where a larger sample size would result in a smaller margin of error.\n\nThe margin of error is the range of uncertainty in a confidence interval. Larger samples reduce it by lowering variability.\nExample: Surveying 1000 people instead of 100 narrows the confidence interval for job satisfaction.",
      "metadata": {
        "trusted": true
      },
      "outputs": [],
      "execution_count": null
    },
    {
      "cell_type": "code",
      "source": "# Q9. Calculate the z-score for a data point with a value of 75, a population mean of 70, and a population\n# standard deviation of 5. Interpret the results.\n\nData = 75, Mean = 70, Std Dev = 5:\n\nZ = 75−70/5\n  = 1.0\n\nInterpretation: The value is 1 standard deviation above the mean.",
      "metadata": {
        "trusted": true
      },
      "outputs": [],
      "execution_count": null
    },
    {
      "cell_type": "code",
      "source": "# Q10. In a study of the effectiveness of a new weight loss drug, a sample of 50 participants lost an average of 6 pounds with a standard deviation of 2.5 pounds. \n#      Conduct a hypothesis test to determine if the drug is significantly effective at a 95% confidence level using a t-test.\n\nHypothesis Test for Drug Effectiveness:\n\nt= 6-0/ 2.5/root over(50)\n=  16.67\n\nWith  t>tcritical, reject H0. The drug is significantly effectiv",
      "metadata": {
        "trusted": true
      },
      "outputs": [],
      "execution_count": null
    },
    {
      "cell_type": "code",
      "source": "# Q11. In a survey of 500 people, 65% reported being satisfied with their current job. Calculate the 95%\n# confidence interval for the true proportion of people who are satisfied with their job.\n\nSample proportion = 0.65, n=500:\n\nCI = (0.65±1.96) . root over((0.65.(1-0.65))/500)\n   = (0.61,0.69)\n\nInterpretation: True satisfaction rate is between 61% and 69%.",
      "metadata": {
        "trusted": true
      },
      "outputs": [],
      "execution_count": null
    },
    {
      "cell_type": "code",
      "source": "# Q12. A researcher is testing the effectiveness of two different teaching methods on student performance.\n# Sample A has a mean score of 85 with a standard deviation of 6, while sample B has a mean score of 82\n# with a standard deviation of 5. Conduct a hypothesis test to determine if the two teaching methods have a\n# significant difference in student performance using a t-test with a significance level of 0.01.\n\nHypothesis Test for Teaching Methods:\n\nt= (85-82)/ root over(36/30 + 25/40)\n = 2.75\n\nWith t>tcritical, reject H0. Methods differ significantly.",
      "metadata": {
        "trusted": true
      },
      "outputs": [],
      "execution_count": null
    },
    {
      "cell_type": "code",
      "source": "# Q13. A population has a mean of 60 and a standard deviation of 8. A sample of 50 observations has a mean\n# of 65. Calculate the 90% confidence interval for the true population mean.\n\nMean = 65, Std Dev = 8, n=50, 90% CI:\n\nCI = (65±1.645) . 8/root over(50)\n   = (63.14,66.86)\n\nInterpretation: True mean likely falls between 63.14 and 66.86.",
      "metadata": {
        "trusted": true
      },
      "outputs": [],
      "execution_count": null
    },
    {
      "cell_type": "code",
      "source": "# Q14. In a study of the effects of caffeine on reaction time, a sample of 30 participants had an average\n# reaction time of 0.25 seconds with a standard deviation of 0.05 seconds. Conduct a hypothesis test to\n# determine if the caffeine has a significant effect on reaction time at a 90% confidence level using a t-test\n\nCaffeine Effect Hypothesis Test:\n\nt= (0.25 -0)/ 0.05/root over(30)\n = 27.39\n\nWith t>tcritical, reject H0. Caffeine significantly affects reaction time.",
      "metadata": {
        "trusted": true
      },
      "outputs": [],
      "execution_count": null
    }
  ]
}